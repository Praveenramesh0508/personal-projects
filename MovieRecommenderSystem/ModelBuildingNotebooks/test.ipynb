{
 "cells": [
  {
   "cell_type": "code",
   "execution_count": 11,
   "metadata": {},
   "outputs": [],
   "source": [
    "import re\n",
    "import os\n",
    "\n",
    "MODEL_DIR = \"Models\"\n",
    "DATA_DIR = \"Data\""
   ]
  },
  {
   "cell_type": "code",
   "execution_count": 12,
   "metadata": {},
   "outputs": [],
   "source": [
    "def get_dataset_name():\n",
    "    # Find latest dataset number\n",
    "    dataset_regex = r'^dataset_(\\d+)\\.csv$'\n",
    "    dataset_numbers = []\n",
    "    for filename in os.listdir(DATA_DIR):\n",
    "        match = re.match(dataset_regex, filename)\n",
    "        if match:\n",
    "            dataset_numbers.append(int(match.group(1)))\n",
    "    latest_dataset_number = max(dataset_numbers) if dataset_numbers else 0\n",
    "\n",
    "    # Create new dataset name\n",
    "    new_dataset_number = latest_dataset_number + 1\n",
    "    new_csv_name = f\"dataset_{new_dataset_number}.csv\"\n",
    "\n",
    "    return new_csv_name"
   ]
  },
  {
   "cell_type": "code",
   "execution_count": 19,
   "metadata": {},
   "outputs": [],
   "source": [
    "def get_model_name():\n",
    "    # Find latest model number\n",
    "    model_regex = r'^model_v(\\d+)\\.pkl$'\n",
    "    model_numbers = []\n",
    "    for filename in os.listdir(MODEL_DIR):\n",
    "        match = re.match(model_regex, filename)\n",
    "        if match:\n",
    "            model_numbers.append(int(match.group(1)))\n",
    "    latest_model_number = max(model_numbers) if model_numbers else 0\n",
    "\n",
    "    # Create new model name\n",
    "    new_model_number = latest_model_number + 1\n",
    "    new_model_name = f\"model_v{new_model_number}.pkl\"\n",
    "    return new_model_name"
   ]
  },
  {
   "cell_type": "code",
   "execution_count": 17,
   "metadata": {},
   "outputs": [
    {
     "data": {
      "text/plain": [
       "'dataset_4.csv'"
      ]
     },
     "execution_count": 17,
     "metadata": {},
     "output_type": "execute_result"
    }
   ],
   "source": [
    "get_dataset_name()"
   ]
  },
  {
   "cell_type": "code",
   "execution_count": 20,
   "metadata": {},
   "outputs": [
    {
     "data": {
      "text/plain": [
       "'model_v4.pkl'"
      ]
     },
     "execution_count": 20,
     "metadata": {},
     "output_type": "execute_result"
    }
   ],
   "source": [
    "get_model_name()"
   ]
  },
  {
   "cell_type": "code",
   "execution_count": null,
   "metadata": {},
   "outputs": [],
   "source": []
  }
 ],
 "metadata": {
  "kernelspec": {
   "display_name": "Python 3 (ipykernel)",
   "language": "python",
   "name": "python3"
  },
  "language_info": {
   "codemirror_mode": {
    "name": "ipython",
    "version": 3
   },
   "file_extension": ".py",
   "mimetype": "text/x-python",
   "name": "python",
   "nbconvert_exporter": "python",
   "pygments_lexer": "ipython3",
   "version": "3.8.10"
  },
  "orig_nbformat": 4
 },
 "nbformat": 4,
 "nbformat_minor": 2
}
