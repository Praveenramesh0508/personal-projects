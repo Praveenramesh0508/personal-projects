{
 "cells": [
  {
   "cell_type": "code",
   "execution_count": 73,
   "metadata": {},
   "outputs": [
    {
     "name": "stdout",
     "output_type": "stream",
     "text": [
      "2023-04-24 03:00:36.814409\n",
      "2023-04-24 01:00:36.814575\n"
     ]
    }
   ],
   "source": [
    "import psycopg2\n",
    "import pandas as pd\n",
    "import requests\n",
    "from datetime import datetime\n",
    "from datetime import datetime, timedelta\n",
    "\n",
    "# Replace these values with your TimescaleDB credentials\n",
    "\n",
    "\n",
    "db_name=\"tsdb\"\n",
    "db_user=\"tsdbadmin\"\n",
    "db_password=\"xus2e6kh8iecv918\"\n",
    "db_host=\"yxwiwu71o8.rvzh9hqg0d.tsdb.cloud.timescale.com\"\n",
    "db_port=\"32943\"\n",
    "\n",
    "# Connect to TimescaleDB\n",
    "conn = psycopg2.connect(\n",
    "    host=db_host,\n",
    "    port=db_port,\n",
    "    user=db_user,\n",
    "    password=db_password,\n",
    "    dbname=db_name\n",
    ")\n",
    "\n",
    "# Get today's date and time\n",
    "now = datetime.now()\n",
    "print(now)\n",
    "\n",
    "one_day_ago = datetime.now() - timedelta(hours=2)\n",
    "\n",
    "print(one_day_ago)\n",
    "# Define the SQL query\n",
    "sql_query = f\"\"\"\n",
    "    SELECT\n",
    "        A.user_id,\n",
    "        A.movie_id,\n",
    "        A.min_time,\n",
    "        A.timestamp AS a_timestamp,\n",
    "        B.recommended_movies,\n",
    "        B.timestamp AS b_timestamp,\n",
    "        CASE\n",
    "            WHEN POSITION(A.movie_id::text IN B.recommended_movies) > 0 THEN 1\n",
    "            ELSE 0\n",
    "        END AS flag\n",
    "    FROM\n",
    "        (SELECT user_id, movie_id, timestamp, MIN(time) AS min_time\n",
    "         FROM user_telemetry\n",
    "         WHERE timestamp >= '{one_day_ago}'\n",
    "           AND timestamp <= '{now}'\n",
    "         GROUP BY user_id, movie_id, timestamp) A\n",
    "    INNER JOIN\n",
    "        (SELECT DISTINCT ON (user_id)\n",
    "            user_id,\n",
    "            recommended_movies,\n",
    "            timestamp\n",
    "         FROM movie_recommendation\n",
    "         WHERE timestamp >= '{one_day_ago}'\n",
    "           AND timestamp <= '{now}'\n",
    "         ORDER BY user_id, timestamp) B\n",
    "    ON A.user_id = B.user_id\n",
    "    WHERE A.timestamp > B.timestamp order by A.timestamp\n",
    "\"\"\"\n",
    "\n",
    "# Read the results into a pandas DataFrame\n",
    "df = pd.read_sql_query(sql_query, conn)\n",
    "\n"
   ]
  },
  {
   "cell_type": "code",
   "execution_count": 74,
   "metadata": {},
   "outputs": [
    {
     "name": "stderr",
     "output_type": "stream",
     "text": [
      "/tmp/ipykernel_3976415/508762235.py:22: SettingWithCopyWarning: \n",
      "A value is trying to be set on a copy of a slice from a DataFrame.\n",
      "Try using .loc[row_indexer,col_indexer] = value instead\n",
      "\n",
      "See the caveats in the documentation: https://pandas.pydata.org/pandas-docs/stable/user_guide/indexing.html#returning-a-view-versus-a-copy\n",
      "  df_no_duplicates[\"user_id\"]=df_no_duplicates[\"user_id\"].astype(int)\n"
     ]
    }
   ],
   "source": [
    "df_no_duplicates = df.drop_duplicates(subset='user_id', keep='first')\n",
    "# Define a function to fetch user information\n",
    "def get_user_info(user_id):\n",
    "    url = f\"http://128.2.204.215:8080/user/{user_id}\"\n",
    "    response = requests.get(url)\n",
    "\n",
    "    if response.status_code == 200:\n",
    "        return response.json()\n",
    "    else:\n",
    "        print(f\"Error fetching user info for user_id {user_id}\")\n",
    "        return None\n",
    "\n",
    "# Loop through user_ids and fetch user information\n",
    "user_info_list = []\n",
    "for user_id in df_no_duplicates[\"user_id\"]:\n",
    "    user_info = get_user_info(user_id)\n",
    "    if user_info:\n",
    "        user_info_list.append(user_info)\n",
    "\n",
    "# Create a new DataFrame with the fetched user information\n",
    "user_info_df = pd.DataFrame(user_info_list)\n",
    "df_no_duplicates[\"user_id\"]=df_no_duplicates[\"user_id\"].astype(int)\n",
    "user_info_df[\"user_id\"]=user_info_df[\"user_id\"].astype(int)\n",
    "merged_df = df_no_duplicates.merge(user_info_df, on=\"user_id\")"
   ]
  },
  {
   "cell_type": "code",
   "execution_count": 75,
   "metadata": {},
   "outputs": [
    {
     "name": "stdout",
     "output_type": "stream",
     "text": [
      "(21381, 14)\n"
     ]
    }
   ],
   "source": [
    "merged_df['top_movie'] = merged_df['recommended_movies'].apply(lambda x: x.split(',')[0])\n",
    "# Define a function to fetch movie information\n",
    "def get_movie_info(top_movie):\n",
    "    url = f\"http://128.2.204.215:8080/movie/{top_movie}\"\n",
    "    response = requests.get(url)\n",
    "\n",
    "    if response.status_code == 200:\n",
    "        return response.json()\n",
    "    else:\n",
    "        print(f\"Error fetching movie info for movie {top_movie}\")\n",
    "        return None\n",
    "\n",
    "# Loop through top_movies and fetch movie information\n",
    "movie_info_list = []\n",
    "movie_info_cache = {}\n",
    "\n",
    "for top_movie in merged_df[\"top_movie\"]:\n",
    "    if top_movie!=\"\":\n",
    "        if top_movie not in movie_info_cache:\n",
    "            movie_info = get_movie_info(top_movie)\n",
    "            if movie_info:\n",
    "                movie_info_cache[top_movie] = {\n",
    "                    'top_movie': top_movie,\n",
    "                    'genres': [genre['name'] for genre in movie_info['genres']],\n",
    "                    'popularity': movie_info['popularity'],\n",
    "                    'vote_average': movie_info['vote_average']\n",
    "                }\n",
    "        \n",
    "        movie_info_list.append(movie_info_cache[top_movie])\n",
    "\n",
    "# Create a new DataFrame with the fetched movie information\n",
    "movie_info_df = pd.DataFrame(movie_info_list)\n",
    "movie_info_df = movie_info_df.drop_duplicates(subset='top_movie', keep='first')\n",
    "\n",
    "\n",
    "# Merge the merged_df with the movie_info_df based on top_movie\n",
    "final_df = merged_df.merge(movie_info_df, on=\"top_movie\")\n",
    "\n",
    "# Print the final DataFrame\n",
    "print(final_df.shape)\n"
   ]
  },
  {
   "cell_type": "code",
   "execution_count": 76,
   "metadata": {},
   "outputs": [],
   "source": [
    "age_bins = [0, 10, 20, 30, 40, 50, 60, 100]\n",
    "age_labels = ['0-10', '10-20', '30-40', '40-50', '50-60', '60-70', '70+']\n",
    "\n",
    "# Create age_group column by binning the age column\n",
    "final_df['age_group'] = pd.cut(final_df['age'], bins=age_bins, labels=age_labels)\n",
    "\n"
   ]
  },
  {
   "cell_type": "code",
   "execution_count": 77,
   "metadata": {},
   "outputs": [
    {
     "data": {
      "text/plain": [
       "top_movie\n",
       "shrek+2001                       10539\n",
       "casablanca+1942                  10538\n",
       "the+shawshank+redemption+1994       88\n",
       "goodfellas+1990                     45\n",
       "pulp+fiction+1994                   25\n",
       "Name: user_id, dtype: int64"
      ]
     },
     "execution_count": 77,
     "metadata": {},
     "output_type": "execute_result"
    }
   ],
   "source": [
    "final_df.groupby([\"top_movie\"]).user_id.count().sort_values(ascending=False).head()"
   ]
  },
  {
   "cell_type": "markdown",
   "metadata": {},
   "source": [
    "# Model Fairness"
   ]
  },
  {
   "cell_type": "markdown",
   "metadata": {},
   "source": [
    "#### Gender"
   ]
  },
  {
   "cell_type": "code",
   "execution_count": 78,
   "metadata": {},
   "outputs": [
    {
     "data": {
      "text/plain": [
       "gender\n",
       "F    0.576247\n",
       "M    0.590937\n",
       "Name: flag, dtype: float64"
      ]
     },
     "execution_count": 78,
     "metadata": {},
     "output_type": "execute_result"
    }
   ],
   "source": [
    "final_df.groupby([\"gender\"]).flag.mean()"
   ]
  },
  {
   "cell_type": "markdown",
   "metadata": {},
   "source": [
    "#### Age"
   ]
  },
  {
   "cell_type": "code",
   "execution_count": 79,
   "metadata": {},
   "outputs": [
    {
     "data": {
      "text/plain": [
       "age_group\n",
       "0-10     0.487500\n",
       "10-20    0.564103\n",
       "30-40    0.588676\n",
       "40-50    0.591096\n",
       "50-60    0.576344\n",
       "60-70    0.651064\n",
       "70+      0.600000\n",
       "Name: flag, dtype: float64"
      ]
     },
     "execution_count": 79,
     "metadata": {},
     "output_type": "execute_result"
    }
   ],
   "source": [
    "final_df.groupby([\"age_group\"]).flag.mean()"
   ]
  },
  {
   "cell_type": "code",
   "execution_count": 80,
   "metadata": {},
   "outputs": [
    {
     "data": {
      "text/plain": [
       "occupation\n",
       "K-12 student              0.560759\n",
       "academic/educator         0.588535\n",
       "artist                    0.600849\n",
       "clerical/admin            0.631098\n",
       "college/grad student      0.578689\n",
       "customer service          0.622951\n",
       "doctor/health care        0.590909\n",
       "executive/managerial      0.597304\n",
       "farmer                    0.600000\n",
       "homemaker                 0.561062\n",
       "lawyer                    0.726027\n",
       "other or not specified    0.577417\n",
       "programmer                0.568282\n",
       "retired                   0.583578\n",
       "sales/marketing           0.609896\n",
       "scientist                 0.588547\n",
       "self-employed             0.586552\n",
       "technician/engineer       0.555184\n",
       "tradesman/craftsman       0.534351\n",
       "unemployed                0.627907\n",
       "writer                    0.621622\n",
       "Name: flag, dtype: float64"
      ]
     },
     "execution_count": 80,
     "metadata": {},
     "output_type": "execute_result"
    }
   ],
   "source": [
    "final_df.groupby([\"occupation\"]).flag.mean()"
   ]
  },
  {
   "cell_type": "markdown",
   "metadata": {},
   "source": [
    "# System Fairness"
   ]
  },
  {
   "cell_type": "code",
   "execution_count": 92,
   "metadata": {},
   "outputs": [],
   "source": [
    "sql_query_recommendations = f\"\"\"\n",
    "SELECT DISTINCT ON (user_id)\n",
    "            user_id,\n",
    "            recommended_movies,\n",
    "            timestamp\n",
    "         FROM movie_recommendation\n",
    "         WHERE timestamp >= '{one_day_ago}'\n",
    "           AND timestamp <= '{now}'\n",
    "         ORDER BY user_id,timestamp\"\"\"\n",
    "\n",
    "# Read the results into a pandas DataFrame\n",
    "df_recommendations = pd.read_sql_query(sql_query_recommendations, conn)"
   ]
  },
  {
   "cell_type": "code",
   "execution_count": 94,
   "metadata": {},
   "outputs": [
    {
     "data": {
      "text/html": [
       "<div>\n",
       "<style scoped>\n",
       "    .dataframe tbody tr th:only-of-type {\n",
       "        vertical-align: middle;\n",
       "    }\n",
       "\n",
       "    .dataframe tbody tr th {\n",
       "        vertical-align: top;\n",
       "    }\n",
       "\n",
       "    .dataframe thead th {\n",
       "        text-align: right;\n",
       "    }\n",
       "</style>\n",
       "<table border=\"1\" class=\"dataframe\">\n",
       "  <thead>\n",
       "    <tr style=\"text-align: right;\">\n",
       "      <th></th>\n",
       "      <th>user_id</th>\n",
       "      <th>recommended_movies</th>\n",
       "      <th>timestamp</th>\n",
       "    </tr>\n",
       "  </thead>\n",
       "  <tbody>\n",
       "    <tr>\n",
       "      <th>0</th>\n",
       "      <td>10</td>\n",
       "      <td>shrek+2001, the+battle+of+algiers+1966, the+em...</td>\n",
       "      <td>2023-04-24 01:16:16.123681</td>\n",
       "    </tr>\n",
       "    <tr>\n",
       "      <th>1</th>\n",
       "      <td>100006</td>\n",
       "      <td>shrek+2001, the+battle+of+algiers+1966, the+em...</td>\n",
       "      <td>2023-04-24 02:02:45.271079</td>\n",
       "    </tr>\n",
       "    <tr>\n",
       "      <th>2</th>\n",
       "      <td>100081</td>\n",
       "      <td>casablanca+1942, goodfellas+1990, the+shawshan...</td>\n",
       "      <td>2023-04-24 01:22:59.145727</td>\n",
       "    </tr>\n",
       "    <tr>\n",
       "      <th>3</th>\n",
       "      <td>100101</td>\n",
       "      <td>casablanca+1942, goodfellas+1990, the+shawshan...</td>\n",
       "      <td>2023-04-24 02:53:43.085209</td>\n",
       "    </tr>\n",
       "    <tr>\n",
       "      <th>4</th>\n",
       "      <td>100108</td>\n",
       "      <td>shrek+2001, the+battle+of+algiers+1966, the+em...</td>\n",
       "      <td>2023-04-24 01:05:19.208718</td>\n",
       "    </tr>\n",
       "  </tbody>\n",
       "</table>\n",
       "</div>"
      ],
      "text/plain": [
       "  user_id                                 recommended_movies  \\\n",
       "0      10  shrek+2001, the+battle+of+algiers+1966, the+em...   \n",
       "1  100006  shrek+2001, the+battle+of+algiers+1966, the+em...   \n",
       "2  100081  casablanca+1942, goodfellas+1990, the+shawshan...   \n",
       "3  100101  casablanca+1942, goodfellas+1990, the+shawshan...   \n",
       "4  100108  shrek+2001, the+battle+of+algiers+1966, the+em...   \n",
       "\n",
       "                   timestamp  \n",
       "0 2023-04-24 01:16:16.123681  \n",
       "1 2023-04-24 02:02:45.271079  \n",
       "2 2023-04-24 01:22:59.145727  \n",
       "3 2023-04-24 02:53:43.085209  \n",
       "4 2023-04-24 01:05:19.208718  "
      ]
     },
     "execution_count": 94,
     "metadata": {},
     "output_type": "execute_result"
    }
   ],
   "source": [
    "df_recommendations.head()"
   ]
  },
  {
   "cell_type": "code",
   "execution_count": 95,
   "metadata": {},
   "outputs": [
    {
     "name": "stdout",
     "output_type": "stream",
     "text": [
      "(71811, 7)\n"
     ]
    }
   ],
   "source": [
    "df_recommendations['top_movie'] = df_recommendations['recommended_movies'].apply(lambda x: x.split(',')[0])\n",
    "\n",
    "# Define a function to fetch movie information\n",
    "def get_movie_info(top_movie):\n",
    "    url = f\"http://128.2.204.215:8080/movie/{top_movie}\"\n",
    "    response = requests.get(url)\n",
    "\n",
    "    if response.status_code == 200:\n",
    "        return response.json()\n",
    "    else:\n",
    "        print(f\"Error fetching movie info for movie {top_movie}\")\n",
    "        return None\n",
    "\n",
    "# Loop through top_movies and fetch movie information\n",
    "movie_info_list = []\n",
    "movie_info_cache = {}\n",
    "\n",
    "for top_movie in df_recommendations[\"top_movie\"]:\n",
    "    if top_movie!=\"\":\n",
    "        if top_movie not in movie_info_cache:\n",
    "            movie_info = get_movie_info(top_movie)\n",
    "            if movie_info:\n",
    "                movie_info_cache[top_movie] = {\n",
    "                    'top_movie': top_movie,\n",
    "                    'genres': [genre['name'] for genre in movie_info['genres']],\n",
    "                    'popularity': movie_info['popularity'],\n",
    "                    'vote_average': movie_info['vote_average']\n",
    "                }\n",
    "        \n",
    "        movie_info_list.append(movie_info_cache[top_movie])\n",
    "\n",
    "# Create a new DataFrame with the fetched movie information\n",
    "movie_info_df = pd.DataFrame(movie_info_list)\n",
    "movie_info_df = movie_info_df.drop_duplicates(subset='top_movie', keep='first')\n",
    "\n",
    "\n",
    "# Merge the merged_df with the movie_info_df based on top_movie\n",
    "df_recommendations_final = df_recommendations.merge(movie_info_df, on=\"top_movie\")\n",
    "\n",
    "# Print the final DataFrame\n",
    "print(df_recommendations_final.shape)\n"
   ]
  },
  {
   "cell_type": "code",
   "execution_count": 97,
   "metadata": {},
   "outputs": [],
   "source": [
    "df_recommendations_final['primary_genre'] = df_recommendations_final['genres'].apply(lambda x: x[0] if len(x) > 0 else None)\n"
   ]
  },
  {
   "cell_type": "markdown",
   "metadata": {},
   "source": [
    "### Distribution of top recommended movie"
   ]
  },
  {
   "cell_type": "code",
   "execution_count": 91,
   "metadata": {},
   "outputs": [
    {
     "data": {
      "text/plain": [
       "top_movie\n",
       "casablanca+1942                              35537\n",
       "shrek+2001                                   35214\n",
       "the+shawshank+redemption+1994                  305\n",
       "goodfellas+1990                                175\n",
       "the+godfather+1972                              89\n",
       "pulp+fiction+1994                               77\n",
       "the+sixth+sense+1999                            39\n",
       "the+lord+of+the+rings+the+two+towers+2002       34\n",
       "the+battle+of+algiers+1966                      32\n",
       "tarzan+1999                                     30\n",
       "Name: user_id, dtype: int64"
      ]
     },
     "execution_count": 91,
     "metadata": {},
     "output_type": "execute_result"
    }
   ],
   "source": [
    "df_recommendations_final.groupby([\"top_movie\"]).user_id.count().sort_values(ascending=False).head(10)"
   ]
  },
  {
   "cell_type": "markdown",
   "metadata": {},
   "source": [
    "### Distribution of top recommended movie genre"
   ]
  },
  {
   "cell_type": "code",
   "execution_count": 99,
   "metadata": {},
   "outputs": [
    {
     "data": {
      "text/plain": [
       "primary_genre\n",
       "Drama          36239\n",
       "Adventure      35337\n",
       "Thriller          89\n",
       "Mystery           62\n",
       "Crime             26\n",
       "Horror            17\n",
       "Action            11\n",
       "Documentary        8\n",
       "Animation          7\n",
       "War                7\n",
       "Name: user_id, dtype: int64"
      ]
     },
     "execution_count": 99,
     "metadata": {},
     "output_type": "execute_result"
    }
   ],
   "source": [
    "df_recommendations_final.groupby([\"primary_genre\"]).user_id.count().sort_values(ascending=False).head(10)"
   ]
  }
 ],
 "metadata": {
  "kernelspec": {
   "display_name": "Python 3 (ipykernel)",
   "language": "python",
   "name": "python3"
  },
  "language_info": {
   "codemirror_mode": {
    "name": "ipython",
    "version": 3
   },
   "file_extension": ".py",
   "mimetype": "text/x-python",
   "name": "python",
   "nbconvert_exporter": "python",
   "pygments_lexer": "ipython3",
   "version": "3.9.16"
  }
 },
 "nbformat": 4,
 "nbformat_minor": 2
}
